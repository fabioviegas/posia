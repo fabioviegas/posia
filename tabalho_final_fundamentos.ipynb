{
  "nbformat": 4,
  "nbformat_minor": 0,
  "metadata": {
    "colab": {
      "provenance": []
    },
    "kernelspec": {
      "name": "python3",
      "display_name": "Python 3"
    },
    "language_info": {
      "name": "python"
    }
  },
  "cells": [
    {
      "cell_type": "markdown",
      "source": [
        "# Estudo Aplicado - Fundamentos de Python"
      ],
      "metadata": {
        "id": "2wkXKb0mkRpb"
      }
    },
    {
      "cell_type": "markdown",
      "source": [
        "Requisitos\n",
        "\n",
        "*   Apresentar um sistema de logon\n",
        "*  Cadastrar dados de corrida de rua. Tantos dados da corrida, como os resultados obtidos nela\n",
        "*   Fazer um CRUD completo das informaçõe\n",
        "*   Permitir que o usuário interaja com o sistema\n",
        "*   Exportar para csv/json\n",
        "\n",
        "\n"
      ],
      "metadata": {
        "id": "yaZh3JUDl1SZ"
      }
    },
    {
      "cell_type": "markdown",
      "source": [
        "# Simulação do Login com dois usuários - Login Fake"
      ],
      "metadata": {
        "id": "5lIKJCe4dlru"
      }
    },
    {
      "cell_type": "code",
      "source": [
        "# Dicionário de usuários cadastrados (Login Fake)\n",
        "usuarios = {\"admin\": \"1234\", \"fabio\": \"4321\"}\n",
        "\n",
        "# Lista para armazenar as provas cadastradas\n",
        "provas_cadastradas = []\n",
        "\n",
        "# Variável para controlar se o usuário está autenticado\n",
        "usuario_logado = None\n",
        "\n",
        "\n",
        "def login():\n",
        "    \"\"\"Simula o login do usuário\"\"\"\n",
        "    global usuario_logado\n",
        "\n",
        "    while True:\n",
        "        print(\"\\n===== LOGIN =====\")\n",
        "        username = input(\"Usuário: \")\n",
        "        password = input(\"Senha: \")\n",
        "\n",
        "        if username in usuarios and usuarios[username] == password:\n",
        "            usuario_logado = username\n",
        "            print(f\"\\n✅ Login bem-sucedido! Bem-vindo, {username}.\\n\")\n",
        "            break\n",
        "        else:\n",
        "            print(\"\\n❌ Usuário ou senha incorretos! Tente novamente.\\n\")"
      ],
      "metadata": {
        "id": "81jna4qfut7P"
      },
      "execution_count": null,
      "outputs": []
    },
    {
      "cell_type": "markdown",
      "source": [
        "# Simulação do logout fake"
      ],
      "metadata": {
        "id": "7Zc7jDbAghOu"
      }
    },
    {
      "cell_type": "code",
      "source": [
        "def logout():\n",
        "    \"\"\"Simula o logoff do usuário\"\"\"\n",
        "    global usuario_logado\n",
        "    usuario_logado = None\n",
        "    print(\"\\n👋 Você saiu do sistema. Faça login novamente para continuar.\\n\")"
      ],
      "metadata": {
        "id": "KP_XKPlouwn_"
      },
      "execution_count": null,
      "outputs": []
    },
    {
      "cell_type": "markdown",
      "source": [
        "# Método para cadastrar os dados da prova"
      ],
      "metadata": {
        "id": "gcm_uf_Mgm3u"
      }
    },
    {
      "cell_type": "code",
      "execution_count": null,
      "metadata": {
        "id": "-TnrsDCqhNVi"
      },
      "outputs": [],
      "source": [
        "def cadastro_dados_prova():\n",
        "    \"\"\"Coleta os dados básicos da prova\"\"\"\n",
        "    dados_prova = {}\n",
        "    dados_prova[\"Nome da Prova\"] = input(\"Informe o nome da prova: \")\n",
        "    dados_prova[\"Data da Prova\"] = input(\"Informe a data da prova: \")\n",
        "    dados_prova[\"Hora da Prova\"] = input(\"Informe a hora da prova: \")\n",
        "    dados_prova[\"Local da Prova\"] = input(\"Informe o local da prova: \")\n",
        "    dados_prova[\"Distância\"] = input(\"Informe a distância da prova: \")\n",
        "\n",
        "    return dados_prova\n"
      ]
    },
    {
      "cell_type": "markdown",
      "source": [
        "# Método para cadastrar resultados da prova"
      ],
      "metadata": {
        "id": "RGIMAJLRkgIK"
      }
    },
    {
      "cell_type": "code",
      "source": [
        "def cadastro_resultados_prova():\n",
        "    \"\"\"Coleta os resultados da prova\"\"\"\n",
        "    dados_resultados = {}\n",
        "    dados_resultados[\"Pace Médio\"] = input(\"Informe o Pace Médio: \")\n",
        "    dados_resultados[\"Tempo Total\"] = input(\"Informe o tempo da prova: \")\n",
        "    dados_resultados[\"Ritmo Cardíaco\"] = input(\"Informe o ritmo cardíaco: \")\n",
        "\n",
        "    return dados_resultados\n"
      ],
      "metadata": {
        "id": "O1TMV2L6hj2_"
      },
      "execution_count": null,
      "outputs": []
    },
    {
      "cell_type": "markdown",
      "source": [
        "# Método que imprime as provas cadastradas"
      ],
      "metadata": {
        "id": "smDEWToRknWQ"
      }
    },
    {
      "cell_type": "code",
      "source": [
        "def imprimir(provas):\n",
        "    \"\"\"Exibe todas as provas cadastradas\"\"\"\n",
        "    if not provas:\n",
        "        print(\"\\nNenhuma prova cadastrada!\\n\")\n",
        "        return\n",
        "\n",
        "    print(\"\\n\" + \"=\" * 40)\n",
        "    print(\" RELATÓRIO DE PROVAS \".center(40, \"=\"))\n",
        "    print(\"=\" * 40)\n",
        "\n",
        "    for i, prova in enumerate(provas, start=1):\n",
        "        print(f\"\\nPROVA {i}:\")\n",
        "        print(\"-\" * 40)\n",
        "        for chave, valor in prova.items():\n",
        "            print(f\"{chave}: {valor}\")\n",
        "        print(\"=\" * 40)\n"
      ],
      "metadata": {
        "id": "-AF_mM32hoEV"
      },
      "execution_count": null,
      "outputs": []
    },
    {
      "cell_type": "markdown",
      "source": [
        "# Método para atualizar os dados de uma prova"
      ],
      "metadata": {
        "id": "k9qmcN5UkrQR"
      }
    },
    {
      "cell_type": "code",
      "source": [
        "def atualizar_prova(provas):\n",
        "    \"\"\"Atualiza um registro existente\"\"\"\n",
        "    imprimir(provas)\n",
        "    if not provas:\n",
        "        return\n",
        "\n",
        "    try:\n",
        "        index = int(input(\"Informe o número da prova que deseja atualizar: \")) - 1\n",
        "        if 0 <= index < len(provas):\n",
        "            print(\"\\nDigite os novos dados (pressione Enter para manter o valor atual):\")\n",
        "            for chave in provas[index]:\n",
        "                novo_valor = input(f\"{chave} ({provas[index][chave]}): \")\n",
        "                if novo_valor:\n",
        "                    provas[index][chave] = novo_valor\n",
        "            print(\"\\n✅ Prova atualizada com sucesso!\\n\")\n",
        "        else:\n",
        "            print(\"\\n❌ Número de prova inválido!\\n\")\n",
        "    except ValueError:\n",
        "        print(\"\\n❌ Entrada inválida! Digite um número válido.\\n\")\n"
      ],
      "metadata": {
        "id": "J0q6mXCVhrS4"
      },
      "execution_count": null,
      "outputs": []
    },
    {
      "cell_type": "markdown",
      "source": [
        "# Método para deletar os dados de uma prova"
      ],
      "metadata": {
        "id": "1L3O4bWDku7r"
      }
    },
    {
      "cell_type": "code",
      "source": [
        "def deletar_prova(provas):\n",
        "    \"\"\"Remove uma prova do registro\"\"\"\n",
        "    imprimir(provas)\n",
        "    if not provas:\n",
        "        return\n",
        "\n",
        "    try:\n",
        "        index = int(input(\"Informe o número da prova que deseja excluir: \")) - 1\n",
        "        if 0 <= index < len(provas):\n",
        "            provas.pop(index)\n",
        "            print(\"\\n✅ Prova excluída com sucesso!\\n\")\n",
        "        else:\n",
        "            print(\"\\n❌ Número de prova inválido!\\n\")\n",
        "    except ValueError:\n",
        "        print(\"\\n❌ Entrada inválida! Digite um número válido.\\n\")"
      ],
      "metadata": {
        "id": "b3yAQn6Ih0XF"
      },
      "execution_count": null,
      "outputs": []
    },
    {
      "cell_type": "markdown",
      "source": [
        "# Métodos para lidar com arquivos"
      ],
      "metadata": {
        "id": "APtcb3MNALDp"
      }
    },
    {
      "cell_type": "code",
      "source": [
        "def carregar_tarefas():\n",
        "  global formato, arquivo, provas_cadastradas\n",
        "\n",
        "  try:\n",
        "    with open(arquivo, \"r\") as arq:\n",
        "      if formato == \"csv\":\n",
        "        leitor = csv.reader(arq)\n",
        "        provas_cadastradas = [linha[0] for linha in leitor if linha]\n",
        "      elif formato == \"json\":\n",
        "        provas_cadastradas = json.load(arq)\n",
        "  except FileNotFoundError:\n",
        "    provas_cadastradas.clear()\n",
        "\n",
        "def salvar_tarefas():\n",
        "  with open(arquivo, \"w\") as arq:\n",
        "    if formato == \"csv\":\n",
        "      escritor = csv.writer(arq)\n",
        "      for prova_cadastrada in provas_cadastradas:\n",
        "        escritor.writerow([prova_cadastrada])\n",
        "    elif formato == \"json\":\n",
        "      json.dump(provas_cadastradas, arq, indent=2)"
      ],
      "metadata": {
        "id": "DgU4ClJ1AJbd"
      },
      "execution_count": null,
      "outputs": []
    },
    {
      "cell_type": "markdown",
      "source": [
        "# Menu Interativo"
      ],
      "metadata": {
        "id": "yYIbV9qxk4jJ"
      }
    },
    {
      "cell_type": "code",
      "source": [
        "import json\n",
        "import csv\n",
        "\n",
        "\n",
        "login()\n",
        "provas_cadastradas = []\n",
        "tarefas = []\n",
        "formato = \"\"\n",
        "arquivo = \"\"\n",
        "# Solicitando formato para salvar o arquivo\n",
        "print(\"Qual o formato do arquivo que você deseja (csv/json)?\")\n",
        "formato = input(\"Digite o formato: \").strip().lower()\n",
        "arquivo = \"provas_corrida.\" + formato\n",
        "\n",
        "carregar_tarefas()\n",
        "while True:\n",
        "    print(\"\\n\" + \"=\" * 40)\n",
        "    print(\" GERENCIAMENTO DE PROVAS \".center(40, \"=\"))\n",
        "    print(\"=\" * 40)\n",
        "    print(\"1 - Cadastrar nova prova\")\n",
        "    print(\"2 - Listar provas cadastradas\")\n",
        "    print(\"3 - Atualizar uma prova\")\n",
        "    print(\"4 - Deletar uma prova\")\n",
        "    print(\"5 - Sair\")\n",
        "\n",
        "    opcao = input(\"Escolha uma opção: \")\n",
        "\n",
        "    if opcao == \"1\":\n",
        "        dados_prova = cadastro_dados_prova()\n",
        "        dados_resultados = cadastro_resultados_prova()\n",
        "        # pega todas as chaves e valores de dados_prova e dados_resultados e junta tudo em um único novo dicionário.\n",
        "        provas_cadastradas.append({**dados_prova, **dados_resultados})\n",
        "        print(\"\\n✅ Prova cadastrada com sucesso!\\n\")\n",
        "\n",
        "    elif opcao == \"2\":\n",
        "        imprimir(provas_cadastradas)\n",
        "\n",
        "    elif opcao == \"3\":\n",
        "        atualizar_prova(provas_cadastradas)\n",
        "\n",
        "    elif opcao == \"4\":\n",
        "        deletar_prova(provas_cadastradas)\n",
        "\n",
        "    elif opcao == \"5\":\n",
        "        salvar_tarefas()\n",
        "        print(\"\\n👋 Saindo do programa... Até mais!\\n\")\n",
        "        logout()\n",
        "        break\n",
        "\n",
        "    else:\n",
        "        print(\"\\n❌ Opção inválida! Escolha uma opção válida.\\n\")\n",
        "\n"
      ],
      "metadata": {
        "id": "gY49xMA4h3hv",
        "colab": {
          "base_uri": "https://localhost:8080/"
        },
        "outputId": "ea4b9108-b8e0-44f7-dec5-ed4adae83b96"
      },
      "execution_count": null,
      "outputs": [
        {
          "output_type": "stream",
          "name": "stdout",
          "text": [
            "\n",
            "===== LOGIN =====\n",
            "Usuário: fabio\n",
            "Senha: 4321\n",
            "\n",
            "✅ Login bem-sucedido! Bem-vindo, fabio.\n",
            "\n",
            "Qual o formato do arquivo que você deseja (csv/json)?\n",
            "Digite o formato: csv\n",
            "\n",
            "========================================\n",
            "======= GERENCIAMENTO DE PROVAS ========\n",
            "========================================\n",
            "1 - Cadastrar nova prova\n",
            "2 - Listar provas cadastradas\n",
            "3 - Atualizar uma prova\n",
            "4 - Deletar uma prova\n",
            "5 - Sair\n",
            "Escolha uma opção: 1\n",
            "Informe o nome da prova: Maratona de Porto Alegre\n",
            "Informe a data da prova: 17/06/2024\n",
            "Informe a hora da prova: 06h\n",
            "Informe o local da prova: Porto Alegre\n",
            "Informe a distância da prova: 42km\n",
            "Informe o Pace Médio: 6:12\n",
            "Informe o tempo da prova: 4:30\n",
            "Informe o ritmo cardíaco: 178\n",
            "\n",
            "✅ Prova cadastrada com sucesso!\n",
            "\n",
            "\n",
            "========================================\n",
            "======= GERENCIAMENTO DE PROVAS ========\n",
            "========================================\n",
            "1 - Cadastrar nova prova\n",
            "2 - Listar provas cadastradas\n",
            "3 - Atualizar uma prova\n",
            "4 - Deletar uma prova\n",
            "5 - Sair\n",
            "Escolha uma opção: 2\n",
            "\n",
            "========================================\n",
            "========= RELATÓRIO DE PROVAS ==========\n",
            "========================================\n",
            "\n",
            "PROVA 1:\n",
            "----------------------------------------\n",
            "Nome da Prova: Maratona de Porto Alegre\n",
            "Data da Prova: 17/06/2024\n",
            "Hora da Prova: 06h\n",
            "Local da Prova: Porto Alegre\n",
            "Distância: 42km\n",
            "Pace Médio: 6:12\n",
            "Tempo Total: 4:30\n",
            "Ritmo Cardíaco: 178\n",
            "========================================\n",
            "\n",
            "========================================\n",
            "======= GERENCIAMENTO DE PROVAS ========\n",
            "========================================\n",
            "1 - Cadastrar nova prova\n",
            "2 - Listar provas cadastradas\n",
            "3 - Atualizar uma prova\n",
            "4 - Deletar uma prova\n",
            "5 - Sair\n",
            "Escolha uma opção: 1\n",
            "Informe o nome da prova: Wine Run\n",
            "Informe a data da prova: 14/08/2024\n",
            "Informe a hora da prova: 08h\n",
            "Informe o local da prova: Bento Gonçalvez\n",
            "Informe a distância da prova: 8km\n",
            "Informe o Pace Médio: 158\n",
            "Informe o tempo da prova: 1:12\n",
            "Informe o ritmo cardíaco: 174\n",
            "\n",
            "✅ Prova cadastrada com sucesso!\n",
            "\n",
            "\n",
            "========================================\n",
            "======= GERENCIAMENTO DE PROVAS ========\n",
            "========================================\n",
            "1 - Cadastrar nova prova\n",
            "2 - Listar provas cadastradas\n",
            "3 - Atualizar uma prova\n",
            "4 - Deletar uma prova\n",
            "5 - Sair\n",
            "Escolha uma opção: 2\n",
            "\n",
            "========================================\n",
            "========= RELATÓRIO DE PROVAS ==========\n",
            "========================================\n",
            "\n",
            "PROVA 1:\n",
            "----------------------------------------\n",
            "Nome da Prova: Maratona de Porto Alegre\n",
            "Data da Prova: 17/06/2024\n",
            "Hora da Prova: 06h\n",
            "Local da Prova: Porto Alegre\n",
            "Distância: 42km\n",
            "Pace Médio: 6:12\n",
            "Tempo Total: 4:30\n",
            "Ritmo Cardíaco: 178\n",
            "========================================\n",
            "\n",
            "PROVA 2:\n",
            "----------------------------------------\n",
            "Nome da Prova: Wine Run\n",
            "Data da Prova: 14/08/2024\n",
            "Hora da Prova: 08h\n",
            "Local da Prova: Bento Gonçalvez\n",
            "Distância: 8km\n",
            "Pace Médio: 158\n",
            "Tempo Total: 1:12\n",
            "Ritmo Cardíaco: 174\n",
            "========================================\n",
            "\n",
            "========================================\n",
            "======= GERENCIAMENTO DE PROVAS ========\n",
            "========================================\n",
            "1 - Cadastrar nova prova\n",
            "2 - Listar provas cadastradas\n",
            "3 - Atualizar uma prova\n",
            "4 - Deletar uma prova\n",
            "5 - Sair\n",
            "Escolha uma opção: 3\n",
            "\n",
            "========================================\n",
            "========= RELATÓRIO DE PROVAS ==========\n",
            "========================================\n",
            "\n",
            "PROVA 1:\n",
            "----------------------------------------\n",
            "Nome da Prova: Maratona de Porto Alegre\n",
            "Data da Prova: 17/06/2024\n",
            "Hora da Prova: 06h\n",
            "Local da Prova: Porto Alegre\n",
            "Distância: 42km\n",
            "Pace Médio: 6:12\n",
            "Tempo Total: 4:30\n",
            "Ritmo Cardíaco: 178\n",
            "========================================\n",
            "\n",
            "PROVA 2:\n",
            "----------------------------------------\n",
            "Nome da Prova: Wine Run\n",
            "Data da Prova: 14/08/2024\n",
            "Hora da Prova: 08h\n",
            "Local da Prova: Bento Gonçalvez\n",
            "Distância: 8km\n",
            "Pace Médio: 158\n",
            "Tempo Total: 1:12\n",
            "Ritmo Cardíaco: 174\n",
            "========================================\n",
            "Informe o número da prova que deseja atualizar: 2\n",
            "\n",
            "Digite os novos dados (pressione Enter para manter o valor atual):\n",
            "Nome da Prova (Wine Run): Wine Run\n",
            "Data da Prova (14/08/2024): 14/08/2024\n",
            "Hora da Prova (08h): 08h\n",
            "Local da Prova (Bento Gonçalvez): Bento Gonçalves\n",
            "Distância (8km): 8km\n",
            "Pace Médio (158): 158\n",
            "Tempo Total (1:12): 1:12\n",
            "Ritmo Cardíaco (174): 174\n",
            "\n",
            "✅ Prova atualizada com sucesso!\n",
            "\n",
            "\n",
            "========================================\n",
            "======= GERENCIAMENTO DE PROVAS ========\n",
            "========================================\n",
            "1 - Cadastrar nova prova\n",
            "2 - Listar provas cadastradas\n",
            "3 - Atualizar uma prova\n",
            "4 - Deletar uma prova\n",
            "5 - Sair\n",
            "Escolha uma opção: 2\n",
            "\n",
            "========================================\n",
            "========= RELATÓRIO DE PROVAS ==========\n",
            "========================================\n",
            "\n",
            "PROVA 1:\n",
            "----------------------------------------\n",
            "Nome da Prova: Maratona de Porto Alegre\n",
            "Data da Prova: 17/06/2024\n",
            "Hora da Prova: 06h\n",
            "Local da Prova: Porto Alegre\n",
            "Distância: 42km\n",
            "Pace Médio: 6:12\n",
            "Tempo Total: 4:30\n",
            "Ritmo Cardíaco: 178\n",
            "========================================\n",
            "\n",
            "PROVA 2:\n",
            "----------------------------------------\n",
            "Nome da Prova: Wine Run\n",
            "Data da Prova: 14/08/2024\n",
            "Hora da Prova: 08h\n",
            "Local da Prova: Bento Gonçalves\n",
            "Distância: 8km\n",
            "Pace Médio: 158\n",
            "Tempo Total: 1:12\n",
            "Ritmo Cardíaco: 174\n",
            "========================================\n",
            "\n",
            "========================================\n",
            "======= GERENCIAMENTO DE PROVAS ========\n",
            "========================================\n",
            "1 - Cadastrar nova prova\n",
            "2 - Listar provas cadastradas\n",
            "3 - Atualizar uma prova\n",
            "4 - Deletar uma prova\n",
            "5 - Sair\n",
            "Escolha uma opção: 5\n",
            "\n",
            "👋 Saindo do programa... Até mais!\n",
            "\n",
            "\n",
            "👋 Você saiu do sistema. Faça login novamente para continuar.\n",
            "\n"
          ]
        }
      ]
    },
    {
      "cell_type": "markdown",
      "source": [
        "Gerando a saída em arquivo"
      ],
      "metadata": {
        "id": "grSniMfs0Rih"
      }
    },
    {
      "cell_type": "markdown",
      "source": [
        "Todo esse trecho aqui está sendo adicionado no google colab integrando com o github"
      ],
      "metadata": {
        "id": "aXeJAr3a8MfS"
      }
    },
    {
      "cell_type": "code",
      "source": [
        "print('Estou sendo alterado no Google Colab depois de ter o arquivo clonado do github')"
      ],
      "metadata": {
        "id": "_DoTsg9G0RIt",
        "colab": {
          "base_uri": "https://localhost:8080/"
        },
        "outputId": "f605e489-7b06-4dca-f560-b9bd6cc4d65b"
      },
      "execution_count": 2,
      "outputs": [
        {
          "output_type": "stream",
          "name": "stdout",
          "text": [
            "Estou sendo alterado no Google Colab depois de ter o arquivo clonado do github\n"
          ]
        }
      ]
    },
    {
      "cell_type": "markdown",
      "source": [],
      "metadata": {
        "id": "lip1hQo2hjcp"
      }
    }
  ]
}